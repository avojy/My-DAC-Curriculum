{
 "cells": [
  {
   "cell_type": "code",
   "execution_count": 21,
   "metadata": {},
   "outputs": [
    {
     "name": "stdout",
     "output_type": "stream",
     "text": [
      "{'apple', 'orange', 'banana'}\n"
     ]
    }
   ],
   "source": [
    "x = {\"apple\", \"orange\", \"banana\"}\n",
    "print(x)"
   ]
  },
  {
   "cell_type": "code",
   "execution_count": 3,
   "metadata": {},
   "outputs": [
    {
     "name": "stdout",
     "output_type": "stream",
     "text": [
      "{'banana', 'apple', 'orange', 'tomato'}\n"
     ]
    }
   ],
   "source": [
    "x.add(\"tomato\") \n",
    "print(x)"
   ]
  },
  {
   "cell_type": "code",
   "execution_count": 4,
   "metadata": {},
   "outputs": [
    {
     "name": "stdout",
     "output_type": "stream",
     "text": [
      "{'banana', 'orange', 'tomato'}\n"
     ]
    }
   ],
   "source": [
    "x.remove(\"apple\") \n",
    "print(x)"
   ]
  },
  {
   "cell_type": "code",
   "execution_count": 2,
   "metadata": {},
   "outputs": [
    {
     "data": {
      "text/plain": [
       "tuple"
      ]
     },
     "execution_count": 2,
     "metadata": {},
     "output_type": "execute_result"
    }
   ],
   "source": [
    "subjects = (\"physics\", \"chemistry\", \"english\", \"math\", \"biology\")\n",
    "type(subjects)"
   ]
  },
  {
   "cell_type": "code",
   "execution_count": 4,
   "metadata": {},
   "outputs": [
    {
     "name": "stdout",
     "output_type": "stream",
     "text": [
      "['physics', 'chemistry', 'english', 'math', 'biology']\n",
      "['physics', 'chemistry', 'english', 'math', 'biology', 'literature']\n"
     ]
    }
   ],
   "source": [
    "tuplelist = list(subjects)\n",
    "print(tuplelist) \n",
    "type(tuplelist)\n",
    "\n",
    "tuplelist.append(\"literature\") \n",
    "print(tuplelist)"
   ]
  },
  {
   "cell_type": "code",
   "execution_count": 5,
   "metadata": {},
   "outputs": [
    {
     "name": "stdout",
     "output_type": "stream",
     "text": [
      "6\n"
     ]
    }
   ],
   "source": [
    "length_of_tuplelist = len(tuplelist) \n",
    "print(length_of_tuplelist) "
   ]
  },
  {
   "cell_type": "code",
   "execution_count": 9,
   "metadata": {},
   "outputs": [
    {
     "name": "stdout",
     "output_type": "stream",
     "text": [
      "[3, 6, 7, 8, 9, 10]\n"
     ]
    }
   ],
   "source": [
    "listNum = [10, 6, 7, 8, 9, 3]\n",
    "\n",
    "sorted_listNumList = sorted(listNum) \n",
    "print(sorted_listNumList) "
   ]
  },
  {
   "cell_type": "code",
   "execution_count": 11,
   "metadata": {},
   "outputs": [
    {
     "name": "stdout",
     "output_type": "stream",
     "text": [
      "[10, 9, 8, 7, 6, 3]\n"
     ]
    }
   ],
   "source": [
    "listNum2 = [3, 6, 7, 8, 9, 10]\n",
    "listNum2.reverse() \n",
    "print(listNum2)"
   ]
  },
  {
   "cell_type": "code",
   "execution_count": 12,
   "metadata": {},
   "outputs": [
    {
     "name": "stdout",
     "output_type": "stream",
     "text": [
      "[]\n"
     ]
    }
   ],
   "source": [
    "listNum2 = [3, 6, 7, 8, 9, 10]\n",
    "listNum2.clear() \n",
    "print(listNum2) "
   ]
  },
  {
   "cell_type": "code",
   "execution_count": 29,
   "metadata": {},
   "outputs": [
    {
     "name": "stdout",
     "output_type": "stream",
     "text": [
      "15\n",
      "12\n",
      "9\n",
      "6\n",
      "3\n",
      "The while loop ends here\n"
     ]
    }
   ],
   "source": [
    "n = 15  # Initialize n to 1\n",
    "while n <= 100:  # The loop will continue while n is less than or equal to 100\n",
    "    print(n)  # Print the current value of n\n",
    "    n = n - 3  # Increment n by 1\n",
    "    if n < 1:  # If n is greater than 10, exit the loop\n",
    "        break  # Exit the loop\n",
    "\n",
    "print(\"The while loop ends here\")"
   ]
  },
  {
   "cell_type": "code",
   "execution_count": null,
   "metadata": {},
   "outputs": [],
   "source": []
  },
  {
   "cell_type": "code",
   "execution_count": null,
   "metadata": {},
   "outputs": [],
   "source": []
  },
  {
   "cell_type": "code",
   "execution_count": null,
   "metadata": {},
   "outputs": [],
   "source": []
  },
  {
   "cell_type": "code",
   "execution_count": null,
   "metadata": {},
   "outputs": [],
   "source": []
  },
  {
   "cell_type": "code",
   "execution_count": null,
   "metadata": {},
   "outputs": [],
   "source": []
  },
  {
   "cell_type": "code",
   "execution_count": 1,
   "metadata": {},
   "outputs": [
    {
     "data": {
      "text/plain": [
       "dict_items([('001', {'name': 'Alice', 'grade': 85}), ('002', {'name': 'Bob', 'grade': 90}), ('003', {'name': 'Charlie', 'grade': 78})])"
      ]
     },
     "execution_count": 1,
     "metadata": {},
     "output_type": "execute_result"
    }
   ],
   "source": [
    "student_grades = {\n",
    "    '001':{\"name\":\"Alice\", \"grade\": 85},\n",
    "    '002':{\"name\":\"Bob\", \"grade\": 90},\n",
    "    '003':{\"name\":\"Charlie\", \"grade\": 78},\n",
    "    \n",
    "}\n",
    "\n",
    "student_grades.items()"
   ]
  },
  {
   "cell_type": "code",
   "execution_count": 2,
   "metadata": {},
   "outputs": [],
   "source": [
    "David = {\n",
    "    \"student_grades\": \"92\"\n",
    "\n",
    "}     "
   ]
  },
  {
   "cell_type": "code",
   "execution_count": 3,
   "metadata": {},
   "outputs": [
    {
     "name": "stdout",
     "output_type": "stream",
     "text": [
      "92\n"
     ]
    }
   ],
   "source": [
    "print(David.get(\"student_grades\"))"
   ]
  },
  {
   "cell_type": "code",
   "execution_count": 8,
   "metadata": {},
   "outputs": [
    {
     "name": "stdout",
     "output_type": "stream",
     "text": [
      "Before alteration:  {'001': ('name', 'Alice', 'grade', '85'), '002': '90', '003': '78', '004': '92'}\n",
      "After alteration:  {'001': ('name', 'Alice', 'grade', '85'), '002': ('name', 'Bob', 'grade', '90'), '003': ('name', 'Charlie', 'grade', '78'), '004': ('name', 'David', 'grade', '92')}\n"
     ]
    }
   ],
   "source": [
    "print(\"Before alteration: \",student_grades)\n",
    "\n",
    "student_grades['001']=\"name\",\"Alice\", \"grade\", \"85\"\n",
    "student_grades['002']=\"name\",\"Bob\", \"grade\", \"90\"\n",
    "student_grades['003']=\"name\",\"Charlie\", \"grade\", \"78\"\n",
    "student_grades['004']=\"name\",\"David\", \"grade\", \"92\"\n",
    "\n",
    "\n",
    "print(\"After alteration: \",student_grades)"
   ]
  },
  {
   "cell_type": "code",
   "execution_count": 9,
   "metadata": {},
   "outputs": [
    {
     "name": "stdout",
     "output_type": "stream",
     "text": [
      "Before alteration:  Alice\n"
     ]
    },
    {
     "ename": "NameError",
     "evalue": "name 'Alice' is not defined",
     "output_type": "error",
     "traceback": [
      "\u001b[1;31m---------------------------------------------------------------------------\u001b[0m",
      "\u001b[1;31mNameError\u001b[0m                                 Traceback (most recent call last)",
      "Cell \u001b[1;32mIn[9], line 4\u001b[0m\n\u001b[0;32m      1\u001b[0m \u001b[38;5;28mprint\u001b[39m(\u001b[38;5;124m\"\u001b[39m\u001b[38;5;124mBefore alteration: \u001b[39m\u001b[38;5;124m\"\u001b[39m,\u001b[38;5;124m\"\u001b[39m\u001b[38;5;124mAlice\u001b[39m\u001b[38;5;124m\"\u001b[39m)\n\u001b[0;32m      3\u001b[0m \u001b[38;5;66;03m#Alteration\u001b[39;00m\n\u001b[1;32m----> 4\u001b[0m \u001b[38;5;28;01mdel\u001b[39;00m \u001b[43mAlice\u001b[49m[\u001b[38;5;124m'\u001b[39m\u001b[38;5;124mstudent_grades\u001b[39m\u001b[38;5;124m'\u001b[39m]\n\u001b[0;32m      6\u001b[0m \u001b[38;5;66;03m#After alteration\u001b[39;00m\n\u001b[0;32m      7\u001b[0m \u001b[38;5;28mprint\u001b[39m(\u001b[38;5;124m\"\u001b[39m\u001b[38;5;124mAfter alteration: \u001b[39m\u001b[38;5;124m\"\u001b[39m, Alice)\n",
      "\u001b[1;31mNameError\u001b[0m: name 'Alice' is not defined"
     ]
    }
   ],
   "source": [
    "print(\"Before Alteration: \",\"Alice\")\n",
    "\n",
    "print(\"Before alteration: \",\"Alice\")\n",
    "\n",
    "#Alteration\n",
    "del Alice['student_grades']\n",
    "\n",
    "#After alteration\n",
    "print(\"After alteration: \", Alice)"
   ]
  },
  {
   "cell_type": "code",
   "execution_count": 10,
   "metadata": {},
   "outputs": [
    {
     "name": "stdout",
     "output_type": "stream",
     "text": [
      "{'apple', 'orange', 'banana'}\n"
     ]
    }
   ],
   "source": [
    "x1 = {\"apple\", \"banana\", \"apple\", \"orange\", \"banana\", \"apple\"}\n",
    "print(x1)\n",
    "\n"
   ]
  },
  {
   "cell_type": "code",
   "execution_count": null,
   "metadata": {},
   "outputs": [],
   "source": []
  }
 ],
 "metadata": {
  "kernelspec": {
   "display_name": "Python 3",
   "language": "python",
   "name": "python3"
  },
  "language_info": {
   "codemirror_mode": {
    "name": "ipython",
    "version": 3
   },
   "file_extension": ".py",
   "mimetype": "text/x-python",
   "name": "python",
   "nbconvert_exporter": "python",
   "pygments_lexer": "ipython3",
   "version": "3.11.9"
  }
 },
 "nbformat": 4,
 "nbformat_minor": 2
}
